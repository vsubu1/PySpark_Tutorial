{
  "nbformat": 4,
  "nbformat_minor": 0,
  "metadata": {
    "colab": {
      "provenance": [],
      "authorship_tag": "ABX9TyNXXjj/QyT1l1BmB4vbn+Nk",
      "include_colab_link": true
    },
    "kernelspec": {
      "name": "python3",
      "display_name": "Python 3"
    },
    "language_info": {
      "name": "python"
    }
  },
  "cells": [
    {
      "cell_type": "markdown",
      "metadata": {
        "id": "view-in-github",
        "colab_type": "text"
      },
      "source": [
        "<a href=\"https://colab.research.google.com/github/vsubu1/PySpark_Tutorial/blob/main/PySpark_Tutorial.ipynb\" target=\"_parent\"><img src=\"https://colab.research.google.com/assets/colab-badge.svg\" alt=\"Open In Colab\"/></a>"
      ]
    },
    {
      "cell_type": "code",
      "execution_count": 1,
      "metadata": {
        "id": "ypATdCcp7xz8"
      },
      "outputs": [],
      "source": [
        "from pyspark.sql import SparkSession\n",
        "spark = SparkSession.builder.appName(\"abcd\").getOrCreate()\n"
      ]
    },
    {
      "cell_type": "code",
      "source": [
        "# Create data frame\n",
        "df = spark.createDataFrame(\n",
        "    [(\"leo\",10),\n",
        "     (\"li\",18),\n",
        "     (\"hue\",56),\n",
        "     (\"bob\",10)],\n",
        "    [\"name\",\"age\"]\n",
        ")"
      ],
      "metadata": {
        "id": "wSoXLkqG8BjK"
      },
      "execution_count": 2,
      "outputs": []
    },
    {
      "cell_type": "code",
      "source": [
        "df.show()"
      ],
      "metadata": {
        "colab": {
          "base_uri": "https://localhost:8080/"
        },
        "id": "QcRfy7az8FvP",
        "outputId": "cc0687e5-43ee-4278-b0a8-f9228db3a9d1"
      },
      "execution_count": 3,
      "outputs": [
        {
          "output_type": "stream",
          "name": "stdout",
          "text": [
            "+----+---+\n",
            "|name|age|\n",
            "+----+---+\n",
            "| leo| 10|\n",
            "|  li| 18|\n",
            "| hue| 56|\n",
            "| bob| 10|\n",
            "+----+---+\n",
            "\n"
          ]
        }
      ]
    },
    {
      "cell_type": "code",
      "source": [
        "from pyspark.sql.functions import col,when\n",
        "\n",
        "\n",
        "# create new column based on condition\n",
        "\n",
        "df1 = df.withColumn(\n",
        "         \"life_stage\",\n",
        "         when(col(\"age\") < 12, \"child\")\n",
        "         .when(col(\"age\").between (13,19), \"teen\")\n",
        "        .otherwise (\"adult\"),\n",
        ")\n",
        "\n",
        "df1.show()\n",
        "\n",
        "\n"
      ],
      "metadata": {
        "colab": {
          "base_uri": "https://localhost:8080/"
        },
        "id": "u7wkcFVf_qgb",
        "outputId": "69cf681f-9a80-41d9-eccd-ef1782df7441"
      },
      "execution_count": 4,
      "outputs": [
        {
          "output_type": "stream",
          "name": "stdout",
          "text": [
            "+----+---+----------+\n",
            "|name|age|life_stage|\n",
            "+----+---+----------+\n",
            "| leo| 10|     child|\n",
            "|  li| 18|      teen|\n",
            "| hue| 56|     adult|\n",
            "| bob| 10|     child|\n",
            "+----+---+----------+\n",
            "\n"
          ]
        }
      ]
    },
    {
      "cell_type": "code",
      "source": [
        "# filter column based on condition\n",
        "df1.filter(col(\"life_stage\").isin(\"child\",\"adult\")).show()"
      ],
      "metadata": {
        "colab": {
          "base_uri": "https://localhost:8080/"
        },
        "id": "MsFt2fmlFwiH",
        "outputId": "bee81ade-3c31-4cda-b4d2-81efadac93a6"
      },
      "execution_count": 5,
      "outputs": [
        {
          "output_type": "stream",
          "name": "stdout",
          "text": [
            "+----+---+----------+\n",
            "|name|age|life_stage|\n",
            "+----+---+----------+\n",
            "| leo| 10|     child|\n",
            "| hue| 56|     adult|\n",
            "| bob| 10|     child|\n",
            "+----+---+----------+\n",
            "\n"
          ]
        }
      ]
    },
    {
      "cell_type": "code",
      "source": [
        "# filter column based on condition\n",
        "df1.filter(col(\"age\") == 10).show()"
      ],
      "metadata": {
        "colab": {
          "base_uri": "https://localhost:8080/"
        },
        "id": "bASceUtDX_lv",
        "outputId": "d4d5ec9b-ab70-4027-deca-29977396a3d7"
      },
      "execution_count": 14,
      "outputs": [
        {
          "output_type": "stream",
          "name": "stdout",
          "text": [
            "+----+---+----------+\n",
            "|name|age|life_stage|\n",
            "+----+---+----------+\n",
            "| leo| 10|     child|\n",
            "| bob| 10|     child|\n",
            "+----+---+----------+\n",
            "\n"
          ]
        }
      ]
    },
    {
      "cell_type": "code",
      "source": [
        "# Using aggregate function in data frame\n",
        "from pyspark.sql.functions import avg\n",
        "\n",
        "df1.select(avg(\"age\")).show()"
      ],
      "metadata": {
        "colab": {
          "base_uri": "https://localhost:8080/"
        },
        "id": "6DdVKszyApgn",
        "outputId": "769ae291-46dd-4f62-b6c5-1e94d1c6e399"
      },
      "execution_count": 6,
      "outputs": [
        {
          "output_type": "stream",
          "name": "stdout",
          "text": [
            "+--------+\n",
            "|avg(age)|\n",
            "+--------+\n",
            "|    23.5|\n",
            "+--------+\n",
            "\n"
          ]
        }
      ]
    },
    {
      "cell_type": "code",
      "source": [
        "# SQL based aggregation\n",
        "spark.sql(\"select avg(age) from {df1}\",df1=df1).show()"
      ],
      "metadata": {
        "colab": {
          "base_uri": "https://localhost:8080/"
        },
        "id": "HuBuCb2AHPOA",
        "outputId": "380e123b-12f9-4b2e-cd93-f105da6510a8"
      },
      "execution_count": 7,
      "outputs": [
        {
          "output_type": "stream",
          "name": "stdout",
          "text": [
            "+--------+\n",
            "|avg(age)|\n",
            "+--------+\n",
            "|    23.5|\n",
            "+--------+\n",
            "\n"
          ]
        }
      ]
    },
    {
      "cell_type": "code",
      "source": [
        "# Apply group by function\n",
        "\n",
        "df1.groupBy(\"life_stage\").sum(\"age\").show()"
      ],
      "metadata": {
        "colab": {
          "base_uri": "https://localhost:8080/"
        },
        "id": "GpfawjIzGl9-",
        "outputId": "e911ab5e-08d7-4df1-fda7-05ed74114f7a"
      },
      "execution_count": 8,
      "outputs": [
        {
          "output_type": "stream",
          "name": "stdout",
          "text": [
            "+----------+--------+\n",
            "|life_stage|sum(age)|\n",
            "+----------+--------+\n",
            "|     child|      20|\n",
            "|      teen|      18|\n",
            "|     adult|      56|\n",
            "+----------+--------+\n",
            "\n"
          ]
        }
      ]
    },
    {
      "cell_type": "code",
      "source": [
        "# Group by through Spark SQL\n",
        "spark.sql(\"select life_stage, avg(age) from {df1} group By life_stage\", df1=df1).show()"
      ],
      "metadata": {
        "colab": {
          "base_uri": "https://localhost:8080/"
        },
        "id": "aX-NR8akJrTW",
        "outputId": "a9bed443-2ad7-4b06-9293-cc18f243ccfd"
      },
      "execution_count": 9,
      "outputs": [
        {
          "output_type": "stream",
          "name": "stdout",
          "text": [
            "+----------+--------+\n",
            "|life_stage|avg(age)|\n",
            "+----------+--------+\n",
            "|     child|    10.0|\n",
            "|      teen|    18.0|\n",
            "|     adult|    56.0|\n",
            "+----------+--------+\n",
            "\n"
          ]
        }
      ]
    },
    {
      "cell_type": "code",
      "source": [
        "# Create table and select values from output table\n",
        "df1.write.saveAsTable(\"testTable\")"
      ],
      "metadata": {
        "id": "ex_-juamHt__"
      },
      "execution_count": 10,
      "outputs": []
    },
    {
      "cell_type": "code",
      "source": [
        "spark.sql(\"select * from testTable\").show()"
      ],
      "metadata": {
        "colab": {
          "base_uri": "https://localhost:8080/"
        },
        "id": "SauG0HbKLtQx",
        "outputId": "b906bec0-4093-470d-bab9-33852a8eb46d"
      },
      "execution_count": 11,
      "outputs": [
        {
          "output_type": "stream",
          "name": "stdout",
          "text": [
            "+----+---+----------+\n",
            "|name|age|life_stage|\n",
            "+----+---+----------+\n",
            "| hue| 56|     adult|\n",
            "| bob| 10|     child|\n",
            "| leo| 10|     child|\n",
            "|  li| 18|      teen|\n",
            "+----+---+----------+\n",
            "\n"
          ]
        }
      ]
    },
    {
      "cell_type": "code",
      "source": [
        "# Filter condition using Spark SQL.\n",
        "spark.sql(\"select * from testTable where life_stage='adult'\").show()"
      ],
      "metadata": {
        "colab": {
          "base_uri": "https://localhost:8080/"
        },
        "id": "C4-msME-L4Vt",
        "outputId": "52b7bec1-31e3-46bf-c251-a5adbb602a78"
      },
      "execution_count": 12,
      "outputs": [
        {
          "output_type": "stream",
          "name": "stdout",
          "text": [
            "+----+---+----------+\n",
            "|name|age|life_stage|\n",
            "+----+---+----------+\n",
            "| hue| 56|     adult|\n",
            "+----+---+----------+\n",
            "\n"
          ]
        }
      ]
    },
    {
      "cell_type": "code",
      "source": [
        "# Read CSV file\n",
        "text_file = spark.read.csv(\"file:/content/category.csv\",\n",
        "                           header=\"true\",\n",
        "                           inferSchema=\"true\",\n",
        "                           sep='|')\n",
        "\n",
        "text_file.show()\n"
      ],
      "metadata": {
        "colab": {
          "base_uri": "https://localhost:8080/"
        },
        "id": "2ztCMgnjYglN",
        "outputId": "b27a2aa4-a207-4bac-d976-3ce0610536b1"
      },
      "execution_count": 96,
      "outputs": [
        {
          "output_type": "stream",
          "name": "stdout",
          "text": [
            "+-----------+-----------+-------------------+\n",
            "|CATEGORY_ID|       NAME|        LAST_UPDATE|\n",
            "+-----------+-----------+-------------------+\n",
            "|          1|     Action|2006-02-15 04:46:27|\n",
            "|          2|  Animation|2006-02-15 04:46:27|\n",
            "|          3|   Children|2006-02-15 04:46:27|\n",
            "|          4|   Classics|2006-02-15 04:46:27|\n",
            "|          5|     Comedy|2006-02-15 04:46:27|\n",
            "|          6|Documentary|2006-02-15 04:46:27|\n",
            "|          7|      Drama|2006-02-15 04:46:27|\n",
            "|          8|     Family|2006-02-15 04:46:27|\n",
            "|          9|    Foreign|2006-02-15 04:46:27|\n",
            "|         10|      Games|2006-02-15 04:46:27|\n",
            "|         11|     Horror|2006-02-15 04:46:27|\n",
            "|         12|      Music|2006-02-15 04:46:27|\n",
            "|         13|        New|2006-02-15 04:46:27|\n",
            "|         14|     Sci-Fi|2006-02-15 04:46:27|\n",
            "|         15|     Sports|2006-02-15 04:46:27|\n",
            "|         16|     Travel|2006-02-15 04:46:27|\n",
            "|         17|      Drama|2006-02-15 04:46:27|\n",
            "|         18|     Family|2006-02-15 04:46:27|\n",
            "|         19|    Foreign|2006-02-15 04:46:27|\n",
            "|         20|      Games|2006-02-15 04:46:27|\n",
            "+-----------+-----------+-------------------+\n",
            "only showing top 20 rows\n",
            "\n"
          ]
        }
      ]
    },
    {
      "cell_type": "code",
      "source": [
        "# prompt: find the number of occurrences of each word present in the text_file dataframe\n",
        "\n",
        "from pyspark.sql.functions import explode, split, lower, regexp_replace\n",
        "\n",
        "# Split the \"category_name\" column into words and explode them into separate rows\n",
        "words_df = text_file.select(col(\"NAME\"))\n",
        "\n",
        "words_df.show()\n",
        "\n",
        "# Group by word and count the occurrences\n",
        "word_counts = words_df.groupBy(\"NAME\").count()\n",
        "\n",
        "# Show the results\n",
        "word_counts.show()"
      ],
      "metadata": {
        "colab": {
          "base_uri": "https://localhost:8080/"
        },
        "id": "ik-LpXa5cFB3",
        "outputId": "7e062c3a-5301-414d-edce-095e0dea97e7"
      },
      "execution_count": 103,
      "outputs": [
        {
          "output_type": "stream",
          "name": "stdout",
          "text": [
            "+-----------+\n",
            "|       NAME|\n",
            "+-----------+\n",
            "|     Action|\n",
            "|  Animation|\n",
            "|   Children|\n",
            "|   Classics|\n",
            "|     Comedy|\n",
            "|Documentary|\n",
            "|      Drama|\n",
            "|     Family|\n",
            "|    Foreign|\n",
            "|      Games|\n",
            "|     Horror|\n",
            "|      Music|\n",
            "|        New|\n",
            "|     Sci-Fi|\n",
            "|     Sports|\n",
            "|     Travel|\n",
            "|      Drama|\n",
            "|     Family|\n",
            "|    Foreign|\n",
            "|      Games|\n",
            "+-----------+\n",
            "only showing top 20 rows\n",
            "\n",
            "+-----------+-----+\n",
            "|       NAME|count|\n",
            "+-----------+-----+\n",
            "|    Foreign|    2|\n",
            "|     Sports|    1|\n",
            "|      Drama|    2|\n",
            "|Documentary|    1|\n",
            "|     Travel|    1|\n",
            "|     Family|    2|\n",
            "|      Games|    2|\n",
            "|   Classics|    1|\n",
            "|  Animation|    1|\n",
            "|      Music|    2|\n",
            "|     Horror|    2|\n",
            "|        New|    1|\n",
            "|     Comedy|    1|\n",
            "|   Children|    1|\n",
            "|     Action|    1|\n",
            "|     Sci-Fi|    1|\n",
            "+-----------+-----+\n",
            "\n"
          ]
        }
      ]
    },
    {
      "cell_type": "code",
      "metadata": {
        "colab": {
          "base_uri": "https://localhost:8080/"
        },
        "id": "1939bcb4",
        "outputId": "92d112ff-f536-48e1-d4e7-169122365a52"
      },
      "source": [],
      "execution_count": 39,
      "outputs": [
        {
          "output_type": "stream",
          "name": "stdout",
          "text": [
            "+-----------+-----+\n",
            "|       word|count|\n",
            "+-----------+-----+\n",
            "|     travel|    1|\n",
            "|      scifi|    1|\n",
            "|documentary|    1|\n",
            "|        new|    1|\n",
            "|     action|    1|\n",
            "|  animation|    1|\n",
            "|    foreign|    1|\n",
            "|     family|    1|\n",
            "|     horror|    1|\n",
            "|      games|    1|\n",
            "|      music|    1|\n",
            "|      drama|    1|\n",
            "|     sports|    1|\n",
            "|   children|    1|\n",
            "|   classics|    1|\n",
            "|     comedy|    1|\n",
            "+-----------+-----+\n",
            "\n"
          ]
        }
      ]
    },
    {
      "cell_type": "code",
      "source": [],
      "metadata": {
        "id": "DfFTOY1TmY9S"
      },
      "execution_count": null,
      "outputs": []
    },
    {
      "cell_type": "code",
      "source": [
        "\n",
        "# prompt: Find number of occurances in file using explode function\n",
        "\n",
        "words_df = text_file.select(col(\"CATEGORY_ID\"),regexp_replace(col(\"NAME\"), \"[^a-zA-Z\\\\s]\", \"\").alias(\"word\"))\n",
        "words_df.show()\n",
        "\n",
        "# Filter out empty strings that might result from the splitting\n",
        "words_df = words_df.filter(col(\"word\") != \"\")\n",
        "words_df.show()\n",
        "\n",
        "\n",
        "words_df = words_df.select(col(\"CATEGORY_ID\"),split(col(\"word\"),\"\\\\s+\").alias(\"word\"))\n",
        "words_df.show()\n",
        "words_df = words_df.select(col(\"CATEGORY_ID\"),explode(col(\"word\")).alias(\"explode\"))\n",
        "words_df.show()\n",
        "words_df.groupBy(\"explode\").count().show()\n",
        "\n",
        "\n",
        "\n"
      ],
      "metadata": {
        "colab": {
          "base_uri": "https://localhost:8080/"
        },
        "id": "OnCW_u5Um3GQ",
        "outputId": "9e60a1e0-109b-4137-c828-675d80ad665f"
      },
      "execution_count": 97,
      "outputs": [
        {
          "output_type": "stream",
          "name": "stdout",
          "text": [
            "+-----------+-----------+\n",
            "|CATEGORY_ID|       word|\n",
            "+-----------+-----------+\n",
            "|          1|     Action|\n",
            "|          2|  Animation|\n",
            "|          3|   Children|\n",
            "|          4|   Classics|\n",
            "|          5|     Comedy|\n",
            "|          6|Documentary|\n",
            "|          7|      Drama|\n",
            "|          8|     Family|\n",
            "|          9|    Foreign|\n",
            "|         10|      Games|\n",
            "|         11|     Horror|\n",
            "|         12|      Music|\n",
            "|         13|        New|\n",
            "|         14|      SciFi|\n",
            "|         15|     Sports|\n",
            "|         16|     Travel|\n",
            "|         17|      Drama|\n",
            "|         18|     Family|\n",
            "|         19|    Foreign|\n",
            "|         20|      Games|\n",
            "+-----------+-----------+\n",
            "only showing top 20 rows\n",
            "\n",
            "+-----------+-----------+\n",
            "|CATEGORY_ID|       word|\n",
            "+-----------+-----------+\n",
            "|          1|     Action|\n",
            "|          2|  Animation|\n",
            "|          3|   Children|\n",
            "|          4|   Classics|\n",
            "|          5|     Comedy|\n",
            "|          6|Documentary|\n",
            "|          7|      Drama|\n",
            "|          8|     Family|\n",
            "|          9|    Foreign|\n",
            "|         10|      Games|\n",
            "|         11|     Horror|\n",
            "|         12|      Music|\n",
            "|         13|        New|\n",
            "|         14|      SciFi|\n",
            "|         15|     Sports|\n",
            "|         16|     Travel|\n",
            "|         17|      Drama|\n",
            "|         18|     Family|\n",
            "|         19|    Foreign|\n",
            "|         20|      Games|\n",
            "+-----------+-----------+\n",
            "only showing top 20 rows\n",
            "\n",
            "+-----------+-------------+\n",
            "|CATEGORY_ID|         word|\n",
            "+-----------+-------------+\n",
            "|          1|     [Action]|\n",
            "|          2|  [Animation]|\n",
            "|          3|   [Children]|\n",
            "|          4|   [Classics]|\n",
            "|          5|     [Comedy]|\n",
            "|          6|[Documentary]|\n",
            "|          7|      [Drama]|\n",
            "|          8|     [Family]|\n",
            "|          9|    [Foreign]|\n",
            "|         10|      [Games]|\n",
            "|         11|     [Horror]|\n",
            "|         12|      [Music]|\n",
            "|         13|        [New]|\n",
            "|         14|      [SciFi]|\n",
            "|         15|     [Sports]|\n",
            "|         16|     [Travel]|\n",
            "|         17|      [Drama]|\n",
            "|         18|     [Family]|\n",
            "|         19|    [Foreign]|\n",
            "|         20|      [Games]|\n",
            "+-----------+-------------+\n",
            "only showing top 20 rows\n",
            "\n",
            "+-----------+-----------+\n",
            "|CATEGORY_ID|    explode|\n",
            "+-----------+-----------+\n",
            "|          1|     Action|\n",
            "|          2|  Animation|\n",
            "|          3|   Children|\n",
            "|          4|   Classics|\n",
            "|          5|     Comedy|\n",
            "|          6|Documentary|\n",
            "|          7|      Drama|\n",
            "|          8|     Family|\n",
            "|          9|    Foreign|\n",
            "|         10|      Games|\n",
            "|         11|     Horror|\n",
            "|         12|      Music|\n",
            "|         13|        New|\n",
            "|         14|      SciFi|\n",
            "|         15|     Sports|\n",
            "|         16|     Travel|\n",
            "|         17|      Drama|\n",
            "|         18|     Family|\n",
            "|         19|    Foreign|\n",
            "|         20|      Games|\n",
            "+-----------+-----------+\n",
            "only showing top 20 rows\n",
            "\n",
            "+-----------+-----+\n",
            "|    explode|count|\n",
            "+-----------+-----+\n",
            "|    Foreign|    2|\n",
            "|     Sports|    1|\n",
            "|      Drama|    2|\n",
            "|Documentary|    1|\n",
            "|     Travel|    1|\n",
            "|     Family|    2|\n",
            "|      Games|    2|\n",
            "|   Classics|    1|\n",
            "|  Animation|    1|\n",
            "|      Music|    2|\n",
            "|     Horror|    2|\n",
            "|        New|    1|\n",
            "|     Comedy|    1|\n",
            "|   Children|    1|\n",
            "|     Action|    1|\n",
            "|      SciFi|    1|\n",
            "+-----------+-----+\n",
            "\n"
          ]
        }
      ]
    },
    {
      "cell_type": "code",
      "source": [
        "# prompt: Find number of occurances in file using explode function\n",
        "\n",
        "words_df = text_file.select(col(\"CATEGORY_ID\"),col(\"NAME\"))\n",
        "words_df.show()\n",
        "\n",
        "\n",
        "words_df = words_df.select(col(\"CATEGORY_ID\"),split(col(\"NAME\"),\"\\\\s+\").alias(\"word\"))\n",
        "words_df.show()\n",
        "words_df = words_df.select(col(\"CATEGORY_ID\"),explode(col(\"word\")).alias(\"explode\"))\n",
        "words_df.show()\n",
        "words_df.groupBy(\"explode\").count().show()\n"
      ],
      "metadata": {
        "colab": {
          "base_uri": "https://localhost:8080/"
        },
        "id": "J6PmUl1l15Ce",
        "outputId": "b0a61890-9212-45d9-f436-f6167d501a6c"
      },
      "execution_count": 113,
      "outputs": [
        {
          "output_type": "stream",
          "name": "stdout",
          "text": [
            "+-----------+-----------+\n",
            "|CATEGORY_ID|       NAME|\n",
            "+-----------+-----------+\n",
            "|          1|     Action|\n",
            "|          2|  Animation|\n",
            "|          3|   Children|\n",
            "|          4|   Classics|\n",
            "|          5|     Comedy|\n",
            "|          6|Documentary|\n",
            "|          7|      Drama|\n",
            "|          8|     Family|\n",
            "|          9|    Foreign|\n",
            "|         10|      Games|\n",
            "|         11|     Horror|\n",
            "|         12|      Music|\n",
            "|         13|        New|\n",
            "|         14|     Sci-Fi|\n",
            "|         15|     Sports|\n",
            "|         16|     Travel|\n",
            "|         17|      Drama|\n",
            "|         18|     Family|\n",
            "|         19|    Foreign|\n",
            "|         20|      Games|\n",
            "+-----------+-----------+\n",
            "only showing top 20 rows\n",
            "\n",
            "+-----------+-------------+\n",
            "|CATEGORY_ID|         word|\n",
            "+-----------+-------------+\n",
            "|          1|     [Action]|\n",
            "|          2|  [Animation]|\n",
            "|          3|   [Children]|\n",
            "|          4|   [Classics]|\n",
            "|          5|     [Comedy]|\n",
            "|          6|[Documentary]|\n",
            "|          7|      [Drama]|\n",
            "|          8|     [Family]|\n",
            "|          9|    [Foreign]|\n",
            "|         10|      [Games]|\n",
            "|         11|     [Horror]|\n",
            "|         12|      [Music]|\n",
            "|         13|        [New]|\n",
            "|         14|     [Sci-Fi]|\n",
            "|         15|     [Sports]|\n",
            "|         16|     [Travel]|\n",
            "|         17|      [Drama]|\n",
            "|         18|     [Family]|\n",
            "|         19|    [Foreign]|\n",
            "|         20|      [Games]|\n",
            "+-----------+-------------+\n",
            "only showing top 20 rows\n",
            "\n",
            "+-----------+-----------+\n",
            "|CATEGORY_ID|    explode|\n",
            "+-----------+-----------+\n",
            "|          1|     Action|\n",
            "|          2|  Animation|\n",
            "|          3|   Children|\n",
            "|          4|   Classics|\n",
            "|          5|     Comedy|\n",
            "|          6|Documentary|\n",
            "|          7|      Drama|\n",
            "|          8|     Family|\n",
            "|          9|    Foreign|\n",
            "|         10|      Games|\n",
            "|         11|     Horror|\n",
            "|         12|      Music|\n",
            "|         13|        New|\n",
            "|         14|     Sci-Fi|\n",
            "|         15|     Sports|\n",
            "|         16|     Travel|\n",
            "|         17|      Drama|\n",
            "|         18|     Family|\n",
            "|         19|    Foreign|\n",
            "|         20|      Games|\n",
            "+-----------+-----------+\n",
            "only showing top 20 rows\n",
            "\n",
            "+-----------+-----+\n",
            "|    explode|count|\n",
            "+-----------+-----+\n",
            "|    Foreign|    2|\n",
            "|     Sports|    1|\n",
            "|      Drama|    2|\n",
            "|Documentary|    1|\n",
            "|     Travel|    1|\n",
            "|     Family|    2|\n",
            "|      Games|    2|\n",
            "|   Classics|    1|\n",
            "|  Animation|    1|\n",
            "|      Music|    2|\n",
            "|     Horror|    2|\n",
            "|        New|    1|\n",
            "|     Comedy|    1|\n",
            "|   Children|    1|\n",
            "|     Action|    1|\n",
            "|     Sci-Fi|    1|\n",
            "+-----------+-----+\n",
            "\n"
          ]
        }
      ]
    }
  ]
}